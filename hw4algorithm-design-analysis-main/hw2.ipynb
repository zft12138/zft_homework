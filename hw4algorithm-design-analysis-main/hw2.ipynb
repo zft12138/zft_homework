{
 "cells": [
  {
   "cell_type": "markdown",
   "metadata": {},
   "source": [
    "## algorithm design and anlysis-2025 spring  homework 2\n",
    "**Deadline**：2025.5.14\n",
    "\n",
    "**name**:\n",
    "\n",
    "\n",
    "note：\n",
    "---\n",
    "1. 带有\\*的题目，申请免上课的同学，必须完成，其他同学选作；\n",
    "2. 请独立完成，如求助了他人或者大模型，请著明，并且不可省略算法分析部分；\n",
    "4. 如若作答有雷同，全部取消成绩；\n",
    "3. 需要书面作答的题目，可以通过引用图片的形式添加，但是注意上传项目时包含所引用的图片的源文件；\n",
    "4. $log_n$ 默认表示$log_2{n}$;"
   ]
  },
  {
   "cell_type": "markdown",
   "metadata": {},
   "source": [
    "## 问题 1  \n",
    "\n",
    "> 给定一个已排序的链表的头 `head` ， *删除所有重复的元素，使每个元素只出现一次* 。返回 *已排序的链表* 。链表的类如下所示：\n",
    "\n",
    "```python\n",
    "class NodeList:\n",
    "    def __init__(self, val=None, right=None):\n",
    "        self.val   = val\n",
    "        self.right = right\n",
    "```\n",
    "\n",
    "输入是一个数组，你首先需要将数组转化为链表，然后删除链表中的重复元素，再遍历链表元素，以一个数组的形式返回。请设计一个算法解决上述任务，分析算法设计思路，计算时间复杂度, 并基于python编程实现。\n",
    "\n",
    "e.g.  输入：head=[1, 1, 2, 3, 3]   输出：[1, 2, 3]\n",
    "\n",
    "![image-20240502110020439](./fig/hw2q1.png)\n",
    "\n"
   ]
  },
  {
   "cell_type": "markdown",
   "metadata": {},
   "source": [
    "idea："
   ]
  },
  {
   "cell_type": "code",
   "execution_count": 1,
   "metadata": {},
   "outputs": [
    {
     "name": "stdout",
     "output_type": "stream",
     "text": [
      "[1, 2, 3]\n"
     ]
    }
   ],
   "source": [
    "# 定义链表节点类\n",
    "class Node:\n",
    "    def __init__(self, val=None, next=None):\n",
    "        self.val = val  # 节点值\n",
    "        self.next = next  # 指向下一个节点的指针\n",
    "\n",
    "# 删除链表中重复元素的函数\n",
    "def remove_duplicates(head):\n",
    "    # 处理空链表或只有一个节点的情况\n",
    "    if head is None or head.next is None:\n",
    "        return head\n",
    "\n",
    "    # 使用指针遍历链表\n",
    "    current_node = head\n",
    "    \n",
    "    # 遍历链表直到最后一个节点\n",
    "    while current_node is not None and current_node.next is not None:\n",
    "        # 如果当前节点值与下一个节点值相同，跳过下一个节点\n",
    "        if current_node.val == current_node.next.val:\n",
    "            current_node.next = current_node.next.next\n",
    "        else:\n",
    "            # 值不同时，移动到下一个节点\n",
    "            current_node = current_node.next\n",
    "    \n",
    "    return head\n",
    "\n",
    "# 辅助函数：将数组转换为链表\n",
    "def array_to_linked_list(arr):\n",
    "    if not arr:  # 如果数组为空，返回 None\n",
    "        return None\n",
    "    \n",
    "    # 创建虚拟头节点，便于构建链表\n",
    "    dummy_head = Node(0)\n",
    "    current = dummy_head\n",
    "    \n",
    "    # 遍历数组，构建链表\n",
    "    for value in arr:\n",
    "        current.next = Node(value)\n",
    "        current = current.next\n",
    "    \n",
    "    return dummy_head.next\n",
    "\n",
    "# 辅助函数：将链表转换回数组以便验证\n",
    "def linked_list_to_array(head):\n",
    "    result = []\n",
    "    current = head\n",
    "    # 遍历链表，将节点值存入数组\n",
    "    while current is not None:\n",
    "        result.append(current.val)\n",
    "        current = current.next\n",
    "    return result\n",
    "\n",
    "# 测试代码\n",
    "if __name__ == \"__main__\":\n",
    "    # 输入测试用例\n",
    "    input_array = [1, 1, 2, 3, 3]\n",
    "    # 将数组转换为链表\n",
    "    linked_list = array_to_linked_list(input_array)\n",
    "    # 删除重复元素\n",
    "    result_list = remove_duplicates(linked_list)\n",
    "    # 将结果链表转换回数组并输出\n",
    "    output_array = linked_list_to_array(result_list)\n",
    "    print(output_array)  # 预期输出: [1, 2, 3]\n",
    "#时间复杂度为O(n)"
   ]
  },
  {
   "cell_type": "markdown",
   "metadata": {},
   "source": [
    "## 问题 2  \n",
    "\n",
    "> 下面是一个经典的算法问题：\n",
    ">\n",
    "> - 给定包含n个整数的一个整数数组 `nums` 和一个整数目标值 `target`，请你在该数组中找出 **和为目标值** *`target`* 的那 **两个** 整数，并返回它们的**数组下标**。假设每种输入只会对应一个答案。但是，数组中同一个元素在答案里不能重复出现。你可以按任意顺序返回答案。\n",
    ">\n",
    "> 由于要多次查找数组中元素的位置，为了提高查询效率可以使用哈希表来存储数组中的数据，在哈希表中查询一个元素的复杂度为O(1)。 已知python中的字典是使用哈希表实现的，即使用`dict[key]`查询对应的value时间复杂度为O(1), python提供了查询字典是否包含某个key的功能：`key in dict`，时间复杂度也是O(1)\n",
    "\n",
    "请根据上面信息，设计一个时间复杂度为O(n) 的算法，解决上述算法问题\n",
    "\n",
    "e.g.   \n",
    "\n",
    "输入：nums=[2,7,11,15], target=9， 输出：[0，1]\n",
    "\n",
    "输入：nums=[3,2,4], target=6, 输出：[1,2]\n",
    "\n",
    "输入：nums=[3,3], target=6,  输出：[0,1]\n"
   ]
  },
  {
   "cell_type": "code",
   "execution_count": 3,
   "metadata": {},
   "outputs": [
    {
     "name": "stdout",
     "output_type": "stream",
     "text": [
      "[0, 1]\n",
      "[1, 2]\n",
      "[0, 1]\n"
     ]
    }
   ],
   "source": [
    "def find_two_sum_indices(numbers, target_sum):\n",
    "    # 初始化哈希表，用于存储 {数值: 下标}\n",
    "    value_to_index = {}\n",
    "    \n",
    "    # 遍历数组，查找和为目标值的两个元素\n",
    "    for index in range(len(numbers)):\n",
    "        # 计算当前元素所需的补数\n",
    "        required_value = target_sum - numbers[index]\n",
    "        \n",
    "        # 检查补数是否已存在于哈希表中\n",
    "        if required_value in value_to_index:\n",
    "            # 找到符合条件的下标对，返回结果\n",
    "            return [value_to_index[required_value], index]\n",
    "        \n",
    "        # 将当前元素及其下标存入哈希表\n",
    "        value_to_index[numbers[index]] = index\n",
    "    \n",
    "    # 题目保证有解，无需处理无解情况\n",
    "    return []\n",
    "\n",
    "# 测试代码\n",
    "if __name__ == \"__main__\":\n",
    "    # 测试用例 1\n",
    "    print(find_two_sum_indices([2, 7, 11, 15], 9))  \n",
    "    # 测试用例 2\n",
    "    print(find_two_sum_indices([3, 2, 4], 6))  \n",
    "    # 测试用例 3\n",
    "    print(find_two_sum_indices([3, 3], 6))  \n",
    "#时间复杂度为O(n)"
   ]
  },
  {
   "cell_type": "markdown",
   "metadata": {},
   "source": [
    "## 问题 3:   \n",
    "\n",
    "> 栈是一种常用的数据结构，编译器中通常使用栈来实现表达式求值。\n",
    ">\n",
    "> 以表达式 $3+5 \\times 8-6$​ 为例。编译器使用两个栈来完成运算，即一个栈保持操作数，另一个栈保存运算符。\n",
    ">\n",
    "> 1. 从左向右遍历表达式，遇到数字就压入操作数栈；\n",
    ">\n",
    "> 2. 遇到运算符，就与运算符栈的栈顶元素进行比较。如果比运算符栈顶元素的优先级高，就将当前运算符压入栈；如果比运算符栈顶元素的优先级低或者相同，从运算符栈中取栈顶运算符，从操作数栈的栈顶取 2 个操作数，然后进行计算，再把计算完的结果压入操作数栈，继续比较。\n",
    ">\n",
    "> 下图是 $3+5 \\times 8-6$  这个表达式的计算过程：\n",
    "\n",
    "![figure](./fig/hw2q3.png)\n",
    "\n",
    "根据上述原理，请设计一个算法完成表达式的运算，当输入为表达式字符串，返回对应的计算结果。分析算法设计思路，计算时间复杂度，并基于python编程实现\n",
    "\n",
    "**note：**\n",
    "\n",
    "1. 假设输入的表达式只会出现加（“+”），减 “-”， 乘“*”，除 “/” 四个运算符, 表达式中只会出现正整数\n",
    "2. python中` str.isdigit()`函数可以判断字符串str是否为数字，\n",
    "\n",
    "\n",
    "\n",
    "e.g. :\n",
    "---\n",
    "\n",
    "1. 输入：“$3+5 * 8 -6$”   输出：37\n",
    "\n",
    "2. 输入：“$34+13*9 + 44-12/3$”  输出：191"
   ]
  },
  {
   "cell_type": "markdown",
   "metadata": {},
   "source": [
    "idea："
   ]
  },
  {
   "cell_type": "code",
   "execution_count": 5,
   "metadata": {},
   "outputs": [
    {
     "name": "stdout",
     "output_type": "stream",
     "text": [
      "37\n",
      "191\n"
     ]
    }
   ],
   "source": [
    "def evaluate_expression(expression):\n",
    "    # 去除字符串中的所有空格\n",
    "    expression = expression.replace(\" \", \"\")\n",
    "\n",
    "    # 初始化栈用于存储中间结果\n",
    "    result_stack = []\n",
    "    current_number = 0  # 当前读取的数字\n",
    "    current_operator = '+'  # 当前运算符，初始化为 '+' 表示第一个数字直接入栈\n",
    "\n",
    "    index = 0\n",
    "    while index < len(expression):\n",
    "        # 如果当前字符是数字，读取完整的数字\n",
    "        if expression[index].isdigit():\n",
    "            current_number = 0\n",
    "            while index < len(expression) and expression[index].isdigit():\n",
    "                current_number = current_number * 10 + int(expression[index])\n",
    "                index += 1\n",
    "            index -= 1  # 回退一位，因为外层循环会增加 index\n",
    "\n",
    "            # 根据上一个运算符处理当前数字\n",
    "            if current_operator == '+':\n",
    "                result_stack.append(current_number)\n",
    "            elif current_operator == '-':\n",
    "                result_stack.append(-current_number)\n",
    "            elif current_operator == '×':\n",
    "                result_stack.append(result_stack.pop() * current_number)\n",
    "            elif current_operator == '/':\n",
    "                result_stack.append(int(result_stack.pop() / current_number))  # 使用整除\n",
    "\n",
    "        # 如果当前字符是运算符，更新当前运算符\n",
    "        elif expression[index] in '+-×/':\n",
    "            current_operator = expression[index]\n",
    "\n",
    "        index += 1\n",
    "\n",
    "    # 返回栈中所有数字的和\n",
    "    return sum(result_stack)\n",
    "\n",
    "# 测试代码\n",
    "if __name__ == \"__main__\":\n",
    "    # 测试用例 1\n",
    "    print(evaluate_expression(\"3 + 5 × 8 - 6\"))  \n",
    "    # 测试用例 2\n",
    "    print(evaluate_expression(\"34 + 13 × 9 + 44 - 12 / 3\"))  \n",
    "#时间复杂度为O(n)"
   ]
  },
  {
   "cell_type": "markdown",
   "metadata": {},
   "source": [
    "## 问题 4:  \n",
    "\n",
    "> 星球碰撞问题：现有n个星球，在同一条直线上运行，如数组A所示，元素的绝对值表示星球的质量，负数表示星球自右向左运动，正数表示星球自左向右运动，当两个星球相撞的时候，质量小的会消失，大的保持不变，**质量相同的两个星球碰撞后自右向左运动的星球消失，自左向右的星球保持不变**，假设所有星球的速度大小相同。\n",
    ">\n",
    "> $ A=[23,-8, 9, -3, -7, 9, -23, 22] $\n",
    "\n",
    "请设计一个算法模拟星球的运行情况，输出最终的星球存续情况（输出一个数组），分析算法设计思路，计算时间复杂度，并基于python编程实现。\n",
    "\n",
    "e.g.\n",
    "---\n",
    "1.  输入： A=[-3,-6,2,8, 5,-8,9,-2,1]， 输出：[-3, -6, 2, 8, 9, 1]\n",
    "\n",
    "2. 输入：A=[23,-8, 9, -3, -7, 9, -23, 22], 输出：[23, 22]\n",
    "\n"
   ]
  },
  {
   "cell_type": "code",
   "execution_count": 1,
   "metadata": {},
   "outputs": [
    {
     "name": "stdout",
     "output_type": "stream",
     "text": [
      "输出: [23, 22]\n"
     ]
    }
   ],
   "source": [
    "def process_collisions(A):\n",
    "    stack = []\n",
    "    # 逐个处理数组元素\n",
    "    for i in range(len(A)):\n",
    "        x = A[i]\n",
    "        while True:\n",
    "            if not stack:\n",
    "                stack.append((x, i))  # 空栈时直接加入\n",
    "                break\n",
    "            top_val, top_idx = stack[-1]\n",
    "            # 判断是否发生碰撞：栈顶向右，当前向左\n",
    "            if top_val > 0 and x < 0:\n",
    "                abs_x = abs(x)\n",
    "                abs_top = abs(top_val)\n",
    "                if abs_x < abs_top:\n",
    "                    break  # 当前元素被消灭\n",
    "                elif abs_x > abs_top:\n",
    "                    stack.pop()  # 栈顶元素被消灭，继续检查\n",
    "                else:\n",
    "                    # 大小相等，负数元素被消灭\n",
    "                    break  # 当前负数元素被消灭\n",
    "            else:\n",
    "                # 无碰撞，直接加入栈\n",
    "                stack.append((x, i))\n",
    "                break\n",
    "    \n",
    "    # 按原索引排序以恢复顺序\n",
    "    stack.sort(key=lambda x: x[1])\n",
    "    return [val for val, idx in stack]\n",
    "\n",
    "A = [23, -8, 9, -3, -7, 9, -23, 22]\n",
    "result = process_collisions(A)\n",
    "print(\"输出:\", result)  # 输出: [23, 22]"
   ]
  },
  {
   "cell_type": "markdown",
   "metadata": {},
   "source": [
    "## 问题 5 \n",
    "\n",
    "> 给定一个无序数组nums=[9,-3,-10,0,9,7,33]，请建立一个二叉搜索树存储数组中的所有元素，之后删除二叉树中的元素“0”，再使用中序遍历输出二叉搜索树中的所有元素。\n",
    "\n",
    "使用python编程完成上述任务，并计算时间复杂度\n"
   ]
  },
  {
   "cell_type": "code",
   "execution_count": 18,
   "metadata": {},
   "outputs": [
    {
     "name": "stdout",
     "output_type": "stream",
     "text": [
      "中序遍历结果: [-10, -3, 7, 9, 9, 33]\n"
     ]
    }
   ],
   "source": [
    "class TreeNode:\n",
    "    def __init__(self, val=0, left=None, right=None):\n",
    "        self.val = val\n",
    "        self.left = left\n",
    "        self.right = right\n",
    "\n",
    "class BinarySearchTree:\n",
    "    def __init__(self):\n",
    "        self.root = None\n",
    "    \n",
    "    def insert(self, val):\n",
    "        if not self.root:\n",
    "            self.root = TreeNode(val)\n",
    "        else:\n",
    "            self._insert_recursive(self.root, val)\n",
    "    \n",
    "    def _insert_recursive(self, node, val):\n",
    "        if val < node.val:\n",
    "            if node.left is None:\n",
    "                node.left = TreeNode(val)\n",
    "            else:\n",
    "                self._insert_recursive(node.left, val)\n",
    "        else:\n",
    "            if node.right is None:\n",
    "                node.right = TreeNode(val)\n",
    "            else:\n",
    "                self._insert_recursive(node.right, val)\n",
    "    \n",
    "    def delete(self, val):\n",
    "        self.root = self._delete_recursive(self.root, val)\n",
    "    \n",
    "    def _delete_recursive(self, node, val):\n",
    "        if not node:\n",
    "            return None\n",
    "        \n",
    "        if val < node.val:\n",
    "            node.left = self._delete_recursive(node.left, val)\n",
    "        elif val > node.val:\n",
    "            node.right = self._delete_recursive(node.right, val)\n",
    "        else:\n",
    "            if not node.left:\n",
    "                return node.right\n",
    "            elif not node.right:\n",
    "                return node.left\n",
    "            else:\n",
    "                successor = self._find_min(node.right)\n",
    "                node.val = successor.val\n",
    "                node.right = self._delete_recursive(node.right, successor.val)\n",
    "        return node\n",
    "    \n",
    "    def _find_min(self, node):\n",
    "        current = node\n",
    "        while current.left:\n",
    "            current = current.left\n",
    "        return current\n",
    "    \n",
    "    def inorder_traversal(self):\n",
    "        result = []\n",
    "        self._inorder_recursive(self.root, result)\n",
    "        return result\n",
    "    \n",
    "    def _inorder_recursive(self, node, result):\n",
    "        if node:\n",
    "            self._inorder_recursive(node.left, result)\n",
    "            result.append(node.val)\n",
    "            self._inorder_recursive(node.right, result)\n",
    "\n",
    "def main():\n",
    "    nums = [9, -3, -10, 0, 9, 7, 33]\n",
    "    bst = BinarySearchTree()\n",
    "    \n",
    "    # 插入所有元素\n",
    "    for num in nums:\n",
    "        bst.insert(num)\n",
    "    \n",
    "    # 删除元素0\n",
    "    bst.delete(0)\n",
    "    \n",
    "    # 中序遍历输出\n",
    "    result = bst.inorder_traversal()\n",
    "    print(\"中序遍历结果:\", result)\n",
    "\n",
    "if __name__ == \"__main__\":\n",
    "    main()"
   ]
  },
  {
   "cell_type": "markdown",
   "metadata": {},
   "source": [
    "## 问题 6  \n",
    "\n",
    "> 给定一个包含大写字母和小写字母的字符串 s ，返回 字符串包含的 **最长的回文子串的长度** 。请注意 区分大小写 。比如 \"Aa\" 不能当做一个回文字符串。\n",
    ">\n",
    "\n",
    "请设计一个算法解决上述问题，只需要输出最长回文子串的长度，分析算法设计思路，计算时间复杂度，并基于python编程实现\n",
    "\n",
    "e.g. 输入： s=\"adccaccd\"，  输出：7。 最长回文子串为：\"dccaccd\", 长度为7\n"
   ]
  },
  {
   "cell_type": "markdown",
   "metadata": {},
   "source": [
    "idea："
   ]
  },
  {
   "cell_type": "code",
   "execution_count": 20,
   "metadata": {},
   "outputs": [
    {
     "name": "stdout",
     "output_type": "stream",
     "text": [
      "7\n"
     ]
    }
   ],
   "source": [
    "def longestPalindromeLength(s):\n",
    "    if not s:\n",
    "        return 0\n",
    "    \n",
    "    # 预处理字符串，插入特殊字符以统一处理奇偶回文\n",
    "    t = '#' + '#'.join(s) + '#'\n",
    "    n = len(t)\n",
    "    # 存储每个位置的回文半径\n",
    "    p = [0] * n\n",
    "    # 记录当前最右回文边界及其中心\n",
    "    center = 0\n",
    "    right = 0\n",
    "    \n",
    "    # Manacher 算法核心\n",
    "    for i in range(n):\n",
    "        # 如果 i 在当前最右回文边界内，利用对称性\n",
    "        if i < right:\n",
    "            mirror = 2 * center - i\n",
    "            p[i] = min(right - i, p[mirror])\n",
    "        \n",
    "        # 扩展以 i 为中心的回文\n",
    "        left = i - (p[i] + 1)\n",
    "        right_bound = i + (p[i] + 1)\n",
    "        while left >= 0 and right_bound < n and t[left] == t[right_bound]:\n",
    "            p[i] += 1\n",
    "            left -= 1\n",
    "            right_bound += 1\n",
    "        \n",
    "        # 更新最右回文边界及其中心\n",
    "        if i + p[i] > right:\n",
    "            center = i\n",
    "            right = i + p[i]\n",
    "    \n",
    "    # 找到最长回文长度\n",
    "    max_length = max(p)\n",
    "    \n",
    "    return max_length\n",
    "\n",
    "# 测试代码\n",
    "s = \"adccaccd\"\n",
    "print(longestPalindromeLength(s))  "
   ]
  },
  {
   "cell_type": "markdown",
   "metadata": {},
   "source": [
    "## 问题 7 \n",
    "\n",
    "> 沿一条长河流分散着n座房子。你可以把这条河想象成一条轴，房子是由它们在这条轴上的坐标按顺序排列的。你的公司想在河边的特定地点设置手机基站，这样每户人家都在距离基站4公里的范围内。输入可以看作为一个升序数组，数组元素的取值为大于等于0的正整数，你需要输出最小基站的数目，基站的位置。\n",
    "\n",
    "1. 给出一个时间复杂度为$O(n$) 的算法，使所使用的基站数量最小化，分析算法设计思路，使用python编程实现\n",
    "2. 证明1.中算法产生了最优解决方案。\n",
    "\n",
    "e.g. \n",
    "\n",
    "输入： [1, 5, 12, 33, 34,35]  输出：基站数目为3， 基站位置为[1，12，33]\n",
    "\n"
   ]
  },
  {
   "cell_type": "markdown",
   "metadata": {},
   "source": [
    "idea："
   ]
  },
  {
   "cell_type": "code",
   "execution_count": 22,
   "metadata": {},
   "outputs": [
    {
     "name": "stdout",
     "output_type": "stream",
     "text": [
      "基站数目为: 3, 基站位置为: [1, 12, 33]\n"
     ]
    }
   ],
   "source": [
    "def min_base_stations(houses):\n",
    "   \n",
    "    if not houses:\n",
    "        return 0, []\n",
    "\n",
    "    count = 0  # 基站数量\n",
    "    positions = []  # 基站位置\n",
    "    i = 0  # 当前房子索引\n",
    "    n = len(houses)\n",
    "    \n",
    "    while i < n:\n",
    "        # 选择当前未覆盖房子的位置作为基站\n",
    "        station_pos = houses[i]\n",
    "        positions.append(station_pos)\n",
    "        count += 1\n",
    "        \n",
    "        # 计算当前基站的覆盖范围终点\n",
    "        cover_end = station_pos + 8\n",
    "        \n",
    "        # 跳过所有被当前基站覆盖的房子\n",
    "        while i < n and houses[i] <= cover_end:\n",
    "            i += 1\n",
    "    \n",
    "    return count, positions\n",
    "\n",
    "# 测试代码\n",
    "houses = [1, 5, 12, 33, 34, 35]\n",
    "count, positions = min_base_stations(houses)\n",
    "print(f\"基站数目为: {count}, 基站位置为: {positions}\")  "
   ]
  },
  {
   "cell_type": "markdown",
   "metadata": {},
   "source": [
    "2:\n",
    "min_base_stations 算法通过贪心策略选择最左未覆盖房子作为基站，证明其最优性如下：\n",
    "正确性：线性扫描确保每个房子被覆盖。\n",
    "最优性：反证法证明无法用更少基站覆盖所有房子，因每次选择最左位置最大化覆盖范围。\n",
    "位置合理性：基站位置为房子坐标，满足覆盖要求。\n",
    "\n",
    "证明这种选择是最优的： 假设存在一个更优解，使用了少于i个基站（我们的算法用了i个）。\n",
    "在贪心算法中，第一个基站覆盖 [h[0],h[0]+8]]，假设最优解的第一个基站位置为p1。\n",
    "如果 p1<h[0],则覆盖不到 h[0]，矛盾。\n",
    "如果p1>h[0]+4则覆盖范围[p1−4,p1+4]的左端点p1−4>h[0]无法覆盖h[0]矛盾。\n",
    "因此，p1必须在[h[0],h[0]+4]]之间，覆盖范围为 [p1−4,p1+4]，贪心选择 p1=h[0]+4 ，使覆盖范围最远（[h[0],h[0]+8]），从而覆盖尽可能多的房子。\n",
    "对于后续房子，重复此过程，每次选择最优的基站位置。\n",
    "\n",
    "贪心算法每次选择最优的局部解，最终得到全局最优解。"
   ]
  },
  {
   "cell_type": "markdown",
   "metadata": {},
   "source": [
    "## 问题 8  \n",
    "\n",
    "> 给定由n个正整数组成的一个集合$S = \\{a_1, a_2，···，a_n\\}$和一个正整数W，设计一个算法确定是否存在S的一个子集 $K \\subseteq S$, 使K中所有数之和为 $W$, 如果存在返回“True”，否则返回“False”\n",
    "\n",
    "请设计一个时间复杂度为$O(nW)$动态规划算法，解决上述问题，分析算法的设计思路，并且基于python编程实现（不需要输出子集）。\n",
    "\n",
    "e.g. \n",
    "\n",
    "输入：S = {1,4,7,3,5}， W = 11，输出：True。   因为K可以是{4,7}。\n",
    "\n"
   ]
  },
  {
   "cell_type": "markdown",
   "metadata": {},
   "source": [
    "idea："
   ]
  },
  {
   "cell_type": "code",
   "execution_count": 26,
   "metadata": {},
   "outputs": [
    {
     "name": "stdout",
     "output_type": "stream",
     "text": [
      "True\n"
     ]
    }
   ],
   "source": [
    "def subset_sum(numbers, target):\n",
    "    \n",
    "    n = len(numbers)\n",
    "    # 初始化 DP 数组，dp[w] 表示是否能组成和 w\n",
    "    dp = [False] * (target + 1)\n",
    "    dp[0] = True  # 空子集和为 0\n",
    "    \n",
    "    # 动态规划：遍历每个数字\n",
    "    for num in numbers:\n",
    "        # 从大到小更新 DP 数组，避免重复使用当前数字\n",
    "        for w in range(target, num - 1, -1):\n",
    "            if dp[w - num]:\n",
    "                dp[w] = True\n",
    "    \n",
    "    return dp[target]\n",
    "\n",
    "# 测试代码\n",
    "numbers = [1, 4, 7, 3, 5]\n",
    "target = 11\n",
    "print(subset_sum(numbers, target))  \n",
    "#时间复杂度为O(nW)"
   ]
  },
  {
   "cell_type": "markdown",
   "metadata": {},
   "source": [
    "\n",
    "\n",
    "## 问题 9 \n",
    "\n",
    "> 给定一个n个物品的集合。物体的重量为$w_1, w_2，…、w_n$，物品的价值分别是$v_1、v_2、…v_n$。给你**两个**重量为 $c$ 的背包。如果你带了一个东西，它可以放在一个背包里，也可以放在另一个背包里，但不能同时放在两个背包里。所有权重和价值都是正整数。\n",
    "\n",
    "1. 设计一个时间复杂度为 $O(nc^2)$ 的动态规划算法，确定可以放入两个背包的物体的最大价值。分析算法设计思路，并基于python编程实现\n",
    "2. \\* 修改1中的算法，输出每个背包的内容（物品对应下标）。\n",
    "\n",
    "e.g.: \n",
    "\n",
    "输入 V=[1,3,2,5,8,7], W=[1,3,2,5,8,7], c=7, 输出：最大价值=14，背包装的物品为：[6] [4，3] （同一个背包中物品装入顺序对结果无影响）  \n"
   ]
  },
  {
   "cell_type": "markdown",
   "metadata": {},
   "source": [
    "idea：计算两个背包的最大总价值，并输出每个背包选择的物品。\n",
    "    \n",
    "    Args:\n",
    "        values: 物品价值列表（下标从 0 开始）\n",
    "        weights: 物品重量列表（下标从 0 开始）\n",
    "        capacity: 每个背包的容量\n",
    "    \n",
    "    Returns:\n",
    "        tuple: (最大价值, 背包1物品列表, 背包2物品列表)，物品索引从 1 开始"
   ]
  },
  {
   "cell_type": "code",
   "execution_count": 44,
   "metadata": {},
   "outputs": [
    {
     "name": "stdout",
     "output_type": "stream",
     "text": [
      "最大价值=14，背包装的物品为：[6] [4, 3]\n"
     ]
    }
   ],
   "source": [
    "def two_knapsacks_with_items(values, weights, capacity):\n",
    "    \n",
    "    n = len(values)\n",
    "    # 初始化 DP 数组，dp[i][w1][w2] 表示前 i 个物品在容量 w1 和 w2 时的最大价值\n",
    "    dp = [[[0] * (capacity + 1) for _ in range(capacity + 1)] for _ in range(n + 1)]\n",
    "    # 记录选择的背包：path[i][w1][w2] = (物品索引, 背包编号)，0 表示不选，1 表示背包1，2 表示背包2\n",
    "    path = [[[(0, 0)] * (capacity + 1) for _ in range(capacity + 1)] for _ in range(n + 1)]\n",
    "    \n",
    "    # 动态规划\n",
    "    for i in range(1, n + 1):\n",
    "        for w1 in range(capacity + 1):\n",
    "            for w2 in range(capacity + 1):\n",
    "                # 选项1：不放入当前物品\n",
    "                dp[i][w1][w2] = dp[i - 1][w1][w2]\n",
    "                path[i][w1][w2] = (0, 0)\n",
    "                \n",
    "                # 选项2：放入第一个背包\n",
    "                if w1 >= weights[i - 1]:\n",
    "                    value_if_in_knapsack1 = dp[i - 1][w1 - weights[i - 1]][w2] + values[i - 1]\n",
    "                    if value_if_in_knapsack1 > dp[i][w1][w2]:\n",
    "                        dp[i][w1][w2] = value_if_in_knapsack1\n",
    "                        path[i][w1][w2] = (i, 1)\n",
    "                \n",
    "                # 选项3：放入第二个背包\n",
    "                if w2 >= weights[i - 1]:\n",
    "                    value_if_in_knapsack2 = dp[i - 1][w1][w2 - weights[i - 1]] + values[i - 1]\n",
    "                    if value_if_in_knapsack2 > dp[i][w1][w2]:\n",
    "                        dp[i][w1][w2] = value_if_in_knapsack2\n",
    "                        path[i][w1][w2] = (i, 2)\n",
    "    \n",
    "    # 回溯找到物品分配\n",
    "    knapsack1_items = []\n",
    "    knapsack2_items = []\n",
    "    w1, w2 = capacity, capacity\n",
    "    for i in range(n, 0, -1):\n",
    "        item_idx, knapsack = path[i][w1][w2]\n",
    "        if item_idx == 0:\n",
    "            continue\n",
    "        if knapsack == 1:\n",
    "            knapsack1_items.append(item_idx)\n",
    "            w1 -= weights[item_idx - 1]\n",
    "        elif knapsack == 2:\n",
    "            knapsack2_items.append(item_idx)\n",
    "            w2 -= weights[item_idx - 1]\n",
    "    \n",
    "    # 按题目要求，物品索引从大到小排序\n",
    "    knapsack1_items.sort(reverse=True)\n",
    "    knapsack2_items.sort(reverse=True)\n",
    "    \n",
    "    return dp[n][capacity][capacity], knapsack1_items, knapsack2_items\n",
    "\n",
    "# 测试代码\n",
    "values = [1, 3, 2, 5, 8, 7]\n",
    "weights = [1, 3, 2, 5, 8, 7]\n",
    "capacity = 7\n",
    "max_value, knapsack1, knapsack2 = two_knapsacks_with_items(values, weights, capacity)\n",
    "\n",
    "# 格式化输出\n",
    "knapsack1_str = f\"[{', '.join(map(str, knapsack1))}]\"\n",
    "knapsack2_str = f\"[{', '.join(map(str, knapsack2))}]\"\n",
    "print(f\"最大价值={max_value}，背包装的物品为：{knapsack1_str} {knapsack2_str}\")"
   ]
  },
  {
   "cell_type": "markdown",
   "metadata": {},
   "source": [
    "## 问题 10 \n",
    "\n",
    "> 给定两个字符串 $x[1..n]$ 和 $y[1..m]$，我们想通过以下操作将 $x$ 变换为 $y$ :\n",
    ">\n",
    "> **插入**：在 $x$ 中插入一个字符(在任何位置)；**删除**：从 $x$ 中删除一个字符(在任何位置)； **替换**：用另一个字符替换 $x$ 中的一个字符。\n",
    ">\n",
    "> 例如: $x = abcd$, $y = bcfe$，\n",
    ">\n",
    "> - 将 $x$ 转换为 $y$ 的一种可能方法是：1. 删除 $x$ 开头的 $a$, $x$变成 $bcd$； 2. 将 $x$ 中的字符 $d$ 替换为字符 $f$。$x$ 变成 $bcf$； 3. 在 $x$ 的末尾插入字符 $e$。$x$ 变成 $bcfe$。\n",
    ">\n",
    "> - 另一种可能的方法：1. 删除 $x$ 开头的 $a$,  $x$ 变成 $bcd$； 2. 在 $x$ 中字符 $d$ 之前插入字符 $f$。$x$ 变成 $bcfd$。3. 将 $x$ 中的字符 $d$ 替换为字符 $e$。$x$ 变成 $bcfe$。\n",
    "\n",
    "设计一个时间复杂度为 $O(mn)$ 的算法，返回将 $x$ 转换为 $y$ 所需的最少操作次数。分析算法设计思路，并基于python编程实现。\n"
   ]
  },
  {
   "cell_type": "markdown",
   "metadata": {},
   "source": [
    "idea：初始化：创建 (m+1) × (n+1) 的 DP 表格，时间复杂度 O(mn)，其中 m 和 n 分别为字符串 x 和 y 的长度。\n",
    "\n",
    "动态规划：\n",
    "外层循环遍历 m+1 次，内层循环遍历 n+1 次，共 O(mn)。\n",
    "每个单元格计算为 O(1)。\n",
    "总时间复杂度为 O(mn)。"
   ]
  },
  {
   "cell_type": "code",
   "execution_count": 34,
   "metadata": {},
   "outputs": [
    {
     "name": "stdout",
     "output_type": "stream",
     "text": [
      "最长公共子序列长度: 2\n"
     ]
    }
   ],
   "source": [
    "def longest_common_subsequence(x, y):\n",
    "    \n",
    "    m = len(x)\n",
    "    n = len(y)\n",
    "    \n",
    "    # 创建 DP 表格，dp[i][j] 表示 x[0:i] 和 y[0:j] 的 LCS 长度\n",
    "    dp = [[0] * (n + 1) for _ in range(m + 1)]\n",
    "    \n",
    "    # 填充 DP 表格\n",
    "    for i in range(1, m + 1):\n",
    "        for j in range(1, n + 1):\n",
    "            if x[i-1] == y[j-1]:\n",
    "                dp[i][j] = dp[i-1][j-1] + 1\n",
    "            else:\n",
    "                dp[i][j] = max(dp[i-1][j], dp[i][j-1])\n",
    "    \n",
    "    return dp[m][n]\n",
    "\n",
    "# 测试代码\n",
    "x = \"abcd\"\n",
    "y = \"bcfe\"\n",
    "result = longest_common_subsequence(x, y)\n",
    "print(f\"最长公共子序列长度: {result}\")  "
   ]
  },
  {
   "cell_type": "code",
   "execution_count": null,
   "metadata": {},
   "outputs": [],
   "source": []
  }
 ],
 "metadata": {
  "kernelspec": {
   "display_name": "Python 3 (ipykernel)",
   "language": "python",
   "name": "python3"
  },
  "language_info": {
   "codemirror_mode": {
    "name": "ipython",
    "version": 3
   },
   "file_extension": ".py",
   "mimetype": "text/x-python",
   "name": "python",
   "nbconvert_exporter": "python",
   "pygments_lexer": "ipython3",
   "version": "3.12.7"
  }
 },
 "nbformat": 4,
 "nbformat_minor": 4
}
